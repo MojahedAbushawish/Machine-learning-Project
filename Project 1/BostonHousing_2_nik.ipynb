{
 "cells": [
  {
   "cell_type": "code",
   "execution_count": 1,
   "metadata": {},
   "outputs": [],
   "source": [
    "import pandas as pd\n",
    "import numpy as np\n",
    "import matplotlib.pyplot as plt\n",
    "import os\n",
    "import scipy.linalg as scl\n",
    "from sklearn.model_selection import train_test_split\n",
    "from IPython.display import display\n",
    "from sklearn.linear_model import LinearRegression \n",
    "from sklearn.pipeline import make_pipeline\n",
    "from sklearn.metrics import mean_squared_error, r2_score, mean_squared_log_error, mean_absolute_error\n",
    "from sklearn.preprocessing import PolynomialFeatures, StandardScaler, MinMaxScaler, RobustScaler\n",
    "from pylab import plt, mpl\n",
    "from sklearn.linear_model import Ridge, Lasso\n",
    "from sklearn.utils import resample\n",
    "from mpl_toolkits.mplot3d import Axes3D\n",
    "from matplotlib import cm\n",
    "from matplotlib.ticker import LinearLocator, FormatStrFormatter\n",
    "from random import random, seed, uniform\n",
    "from sklearn.model_selection import cross_val_score\n",
    "from sklearn.model_selection import KFold\n",
    "import math\n",
    "import seaborn as sns\n",
    "from sklearn.model_selection import validation_curve\n",
    "plt.rcParams['figure.figsize'] = [10, 5]\n",
    "from sklearn.decomposition import PCA\n",
    "from sklearn.cross_decomposition import PLSRegression\n",
    "from sklearn.model_selection import learning_curve, ShuffleSplit"
   ]
  },
  {
   "cell_type": "code",
   "execution_count": 2,
   "metadata": {},
   "outputs": [],
   "source": [
    "# def polyfit(train,test,target,target_test,degree,R,interaction_only):\n",
    "#     poly = PolynomialFeatures(degree,interaction_only)\n",
    "#     X1_train=poly.fit_transform(train)\n",
    "#     X1_test=poly.fit_transform(test)\n",
    "#     R.fit(X1_train, target)\n",
    "#     ypredictR = R.predict(X1_train)\n",
    "#     ypredictRtest = R.predict(X1_test)\n",
    "#     return ypredictR,ypredictRtest\n",
    "\n",
    "# Displays the output features for a given threshold value of correlation\n",
    "def getCorrelatedFeature(corr_data, threshold):\n",
    "#     Store the features and the correlation values which are above the threshold\n",
    "    feature = []\n",
    "    value = []\n",
    "    \n",
    "    for i, index in enumerate(corr_data.index):\n",
    "        \n",
    "        if abs(corr_data[index])> threshold:\n",
    "            feature.append(index)\n",
    "            value.append(corr_data[index])\n",
    "\n",
    "#     print(corr_data.index)        \n",
    "    df = pd.DataFrame(data = value, index = feature, columns=['Correlation Value'])\n",
    "    return df, feature\n",
    "\n",
    "# provides a fit and the prediction for the chosen features\n",
    "def get_y_predict(correlated_data,degree):\n",
    "    #Drop target Label\n",
    "    X = correlated_data.drop(labels = ['MEDV'], axis = 1).to_numpy()\n",
    "    #Define Target\n",
    "    y = correlated_data['MEDV'].to_numpy()\n",
    "    print(X.shape,y.shape)\n",
    "    \n",
    "    X_train, X_test, y_train, y_test = train_test_split(X, y, test_size = 0.2, random_state = 42)\n",
    "    #scaler = RobustScaler()\n",
    "    # scaler = MinMaxScaler()\n",
    "    scaler = StandardScaler()                   #check scaling effect\n",
    "    poly = PolynomialFeatures(degree,include_bias=False)\n",
    "    #define Design Matrix\n",
    "    X1_train=poly.fit_transform(X_train)\n",
    "    X1_test=poly.fit_transform(X_test)\n",
    "    #define Model and Fit\n",
    "    model = LinearRegression()\n",
    "    model.fit(X1_train, y_train)\n",
    "    y_predictTest = model.predict(X1_test)\n",
    "    return y_test, y_predictTest\n",
    "\n",
    "# Provides the accuracy of our model\n",
    "total_features = []\n",
    "features_name = []\n",
    "final_correlation_value = []\n",
    "r2_scores = []\n",
    "mse_value = []\n",
    "#   for a given model this function displays the R2 score, the mean squared error and the features used for the prediction\n",
    "def performance_metrics(features, threshold, y_true, y_pred):\n",
    "    score = r2_score(y_true, y_pred)\n",
    "    mse = mean_squared_error(y_true, y_pred)\n",
    "    total_features.append(len(features)-1)\n",
    "    features_name.append(str(features))\n",
    "    final_correlation_value.append(threshold)\n",
    "    r2_scores.append(score)\n",
    "    mse_value.append(mse)\n",
    "    \n",
    "    metrics_dataframe = pd.DataFrame(data= [features_name, total_features, final_correlation_value, r2_scores, mse_value],\n",
    "                                    index = ['features name', '#features', 'Threshold', 'R2_score', 'MSE'])\n",
    "#     display(metrics_dataframe)\n",
    "    return metrics_dataframe.T\n",
    "#ccalculate cross validation\n",
    "def get_y_predictkf(correlated_data,degree,fold):\n",
    "    X = correlated_data.drop(labels = ['MEDV'], axis = 1).to_numpy()\n",
    "    y = correlated_data['MEDV'].to_numpy()\n",
    "    print(X.shape,y.shape)\n",
    "    \n",
    "    X_train, X_test, y_train, y_test = train_test_split(X, y, test_size = 0.2, random_state = 42)\n",
    "    #scaler = RobustScaler()\n",
    "    \n",
    "    # scaler = MinMaxScaler()\n",
    "    scaler = StandardScaler()\n",
    "    scaler.fit(X_train)\n",
    "    poly = PolynomialFeatures(degree,include_bias=False)\n",
    "    X1_train=poly.fit_transform(X_train)\n",
    "    X1_test=poly.fit_transform(X_test)\n",
    "    print(X1_train.shape)\n",
    "    X2=poly.fit_transform(X)\n",
    "    model = LinearRegression()\n",
    "    model.fit(X1_train, y_train)\n",
    "    y_predictTest = model.predict(X1_test)\n",
    "    \n",
    "    estimated_mse_folds = cross_val_score(model, X2, y[:, np.newaxis], scoring='neg_mean_squared_error', cv=fold)\n",
    "\n",
    "    # cross_val_score return an array containing the estimated negative mse for every fold.\n",
    "    # we have to the the mean of every array in order to get an estimate of the mse of the model\n",
    "    estimated_mse = np.mean(-estimated_mse_folds)\n",
    "#     ypredictTrain, y_predictTest = polyfit(X_train,X_test,Y_train,Y_test,3,LinearRegression(),True)\n",
    "    return y_test, y_predictTest, estimated_mse\n",
    "\n",
    "def performance_metricskf(features, threshold, y_true, y_pred,mse_kfold):\n",
    "    score = r2_score(y_true, y_pred)\n",
    "    mse = mean_squared_error(y_true, y_pred)\n",
    "    total_features.append(len(features)-1)\n",
    "    features_name.append(str(features))\n",
    "    final_correlation_value.append(threshold)\n",
    "    r2_scores.append(score)\n",
    "    mse_value.append(mse)\n",
    "    \n",
    "    metrics_dataframe = pd.DataFrame(data= [features_name, total_features, final_correlation_value, r2_scores, mse_value,mse_kfold],\n",
    "                                    index = ['features name', '#feature', 'Threshold', 'R2_score', 'MSE','KFOLD'])\n",
    "#     display(metrics_dataframe)\n",
    "    return metrics_dataframe.T\n",
    "\n",
    "#perform ridge regression using scikit-learn\n",
    "def get_y_predictkf_ridge(correlated_data,degree,fold,alpha):\n",
    "    X = correlated_data.drop(labels = ['MEDV'], axis = 1).to_numpy()\n",
    "    y = correlated_data['MEDV'].to_numpy()\n",
    "    print(X.shape,y.shape)\n",
    "    \n",
    "    X_train, X_test, y_train, y_test = train_test_split(X, y, test_size = 0.2, random_state = 42)\n",
    "    #scaler = RobustScaler()\n",
    "    \n",
    "    # scaler = MinMaxScaler()\n",
    "    scaler = StandardScaler()\n",
    "    scaler.fit(X_train)\n",
    "    poly = PolynomialFeatures(degree,include_bias=False)\n",
    "    X1_train=poly.fit_transform(X_train)\n",
    "    X1_test=poly.fit_transform(X_test)\n",
    "    print(X1_train.shape)\n",
    "    X2=poly.fit_transform(X)\n",
    "    model = Ridge(alpha)\n",
    "    model.fit(X1_train, y_train)\n",
    "    y_predictTest = model.predict(X1_test)\n",
    "    \n",
    "    estimated_mse_folds = cross_val_score(model, X2, y[:, np.newaxis], scoring='neg_mean_squared_error', cv=fold)\n",
    "\n",
    "    # cross_val_score return an array containing the estimated negative mse for every fold.\n",
    "    # we have to the the mean of every array in order to get an estimate of the mse of the model\n",
    "    estimated_mse = np.mean(-estimated_mse_folds)\n",
    "#     ypredictTrain, y_predictTest = polyfit(X_train,X_test,Y_train,Y_test,3,LinearRegression(),True)\n",
    "    return y_test, y_predictTest, estimated_mse\n",
    "\n",
    "def ols_svd(x: np.ndarray, y: np.ndarray) -> np.ndarray:\n",
    "    u, s, v = scl.svd(x)\n",
    "    return v.T @ scl.pinv(scl.diagsvd(s, u.shape[0], v.shape[0])) @ u.T @ y\n",
    "\n",
    "\n",
    "\n",
    "def get_y_predictkf_psinv(correlated_data,degree,fold,alpha):\n",
    "    X = correlated_data.drop(labels = ['MEDV'], axis = 1).to_numpy()\n",
    "    y = correlated_data['MEDV'].to_numpy()\n",
    "    print(X.shape,y.shape)\n",
    "    \n",
    "    X_train, X_test, y_train, y_test = train_test_split(X, y, test_size = 0.2, random_state = 42)\n",
    "    #scaler = RobustScaler()\n",
    "    \n",
    "    scaler = MinMaxScaler()\n",
    "    #scaler = StandardScaler()\n",
    "    scaler.fit(X_train)\n",
    "    poly = PolynomialFeatures(degree,include_bias=False)\n",
    "    X1_train=poly.fit_transform(X_train)\n",
    "    X1_test=poly.fit_transform(X_test)\n",
    "    print(X1_test.shape)\n",
    "   \n",
    "    #beta = np.linalg.inv(X1_train.T @ X1_train) @ X1_train.T @ y_train\n",
    "    beta = X1_train.T @ (np.linalg.inv(X1_train @ X1_train.T)) @ y_train\n",
    "   # beta=beta.reshape(-1)\n",
    "    print(beta.shape)\n",
    "    y_predictTest= X1_test @ beta\n",
    "    model = Ridge(alpha)\n",
    "    X2=poly.fit_transform(X)\n",
    "    estimated_mse_folds = cross_val_score(model, X2, y[:, np.newaxis], scoring='neg_mean_squared_error', cv=fold)\n",
    "\n",
    "    # cross_val_score return an array containing the estimated negative mse for every fold.\n",
    "    # we have to the the mean of every array in order to get an estimate of the mse of the model\n",
    "    estimated_mse = np.mean(-estimated_mse_folds)\n",
    "#     ypredictTrain, y_predictTest = polyfit(X_train,X_test,Y_train,Y_test,3,LinearRegression(),True)\n",
    "    return y_test, y_predictTest, estimated_mse\n",
    "\n",
    "#ridge regression with explicit equation\n",
    "def get_y_predictkf_ridge_d(correlated_data,degree,fold,alpha):\n",
    "    X = correlated_data.drop(labels = ['MEDV'], axis = 1).to_numpy()\n",
    "    y = correlated_data['MEDV'].to_numpy()\n",
    "    print(X.shape,y.shape)\n",
    "    \n",
    "    X_train, X_test, y_train, y_test = train_test_split(X, y, test_size = 0.2, random_state = 42)\n",
    "    scaler = RobustScaler()\n",
    "    \n",
    "    #scaler = MinMaxScaler()\n",
    "    #scaler = StandardScaler()\n",
    "    scaler.fit(X_train)\n",
    "    poly = PolynomialFeatures(degree,include_bias=False)\n",
    "    X1_train=poly.fit_transform(X_train)\n",
    "    X1_test=poly.fit_transform(X_test)\n",
    "    print(X1_test.shape)\n",
    "    #I=np.identity(len(X1_train.T @ X1_train))\n",
    "    I=np.identity(len(X1_train @ X1_train.T))\n",
    "    #beta = np.linalg.inv(X1_train.T @ X1_train + alpha*I) @ X1_train.T @ y_train\n",
    "    beta = X1_train.T @ np.linalg.inv(X1_train @ X1_train.T + alpha*I) @ y_train\n",
    "   # beta=beta.reshape(-1)\n",
    "    print(beta.shape)\n",
    "    y_predictTest= X1_test @ beta\n",
    "    model = Ridge(alpha)\n",
    "    X2=poly.fit_transform(X)\n",
    "    estimated_mse_folds = cross_val_score(model, X2, y[:, np.newaxis], scoring='neg_mean_squared_error', cv=fold)\n",
    "\n",
    "    # cross_val_score return an array containing the estimated negative mse for every fold.\n",
    "    # we have to the the mean of every array in order to get an estimate of the mse of the model\n",
    "    estimated_mse = np.mean(-estimated_mse_folds)\n",
    "#     ypredictTrain, y_predictTest = polyfit(X_train,X_test,Y_train,Y_test,3,LinearRegression(),True)\n",
    "    return y_test, y_predictTest, estimated_mse"
   ]
  },
  {
   "cell_type": "code",
   "execution_count": 3,
   "metadata": {},
   "outputs": [
    {
     "name": "stdout",
     "output_type": "stream",
     "text": [
      "        CRIM    ZN  INDUS  CHAS    NOX     RM   AGE     DIS  RAD    TAX  \\\n",
      "0    0.00632  18.0   2.31   0.0  0.538  6.575  65.2  4.0900  1.0  296.0   \n",
      "1    0.02731   0.0   7.07   0.0  0.469  6.421  78.9  4.9671  2.0  242.0   \n",
      "2    0.02729   0.0   7.07   0.0  0.469  7.185  61.1  4.9671  2.0  242.0   \n",
      "3    0.03237   0.0   2.18   0.0  0.458  6.998  45.8  6.0622  3.0  222.0   \n",
      "4    0.06905   0.0   2.18   0.0  0.458  7.147  54.2  6.0622  3.0  222.0   \n",
      "..       ...   ...    ...   ...    ...    ...   ...     ...  ...    ...   \n",
      "501  0.06263   0.0  11.93   0.0  0.573  6.593  69.1  2.4786  1.0  273.0   \n",
      "502  0.04527   0.0  11.93   0.0  0.573  6.120  76.7  2.2875  1.0  273.0   \n",
      "503  0.06076   0.0  11.93   0.0  0.573  6.976  91.0  2.1675  1.0  273.0   \n",
      "504  0.10959   0.0  11.93   0.0  0.573  6.794  89.3  2.3889  1.0  273.0   \n",
      "505  0.04741   0.0  11.93   0.0  0.573  6.030  80.8  2.5050  1.0  273.0   \n",
      "\n",
      "     PTRATIO       B  LSTAT  \n",
      "0       15.3  396.90   4.98  \n",
      "1       17.8  396.90   9.14  \n",
      "2       17.8  392.83   4.03  \n",
      "3       18.7  394.63   2.94  \n",
      "4       18.7  396.90   5.33  \n",
      "..       ...     ...    ...  \n",
      "501     21.0  391.99   9.67  \n",
      "502     21.0  396.90   9.08  \n",
      "503     21.0  396.90   5.64  \n",
      "504     21.0  393.45   6.48  \n",
      "505     21.0  396.90   7.88  \n",
      "\n",
      "[506 rows x 13 columns]\n",
      "<class 'pandas.core.frame.DataFrame'>\n",
      "RangeIndex: 506 entries, 0 to 505\n",
      "Data columns (total 14 columns):\n",
      " #   Column   Non-Null Count  Dtype  \n",
      "---  ------   --------------  -----  \n",
      " 0   CRIM     506 non-null    float64\n",
      " 1   ZN       506 non-null    float64\n",
      " 2   INDUS    506 non-null    float64\n",
      " 3   CHAS     506 non-null    float64\n",
      " 4   NOX      506 non-null    float64\n",
      " 5   RM       506 non-null    float64\n",
      " 6   AGE      506 non-null    float64\n",
      " 7   DIS      506 non-null    float64\n",
      " 8   RAD      506 non-null    float64\n",
      " 9   TAX      506 non-null    float64\n",
      " 10  PTRATIO  506 non-null    float64\n",
      " 11  B        506 non-null    float64\n",
      " 12  LSTAT    506 non-null    float64\n",
      " 13  MEDV     506 non-null    float64\n",
      "dtypes: float64(14)\n",
      "memory usage: 55.5 KB\n"
     ]
    },
    {
     "data": {
      "text/plain": [
       "CRIM          73.986578\n",
       "ZN           543.936814\n",
       "INDUS         47.064442\n",
       "CHAS           0.064513\n",
       "NOX            0.013428\n",
       "RM             0.493671\n",
       "AGE          792.358399\n",
       "DIS            4.434015\n",
       "RAD           75.816366\n",
       "TAX        28404.759488\n",
       "PTRATIO        4.686989\n",
       "B           8334.752263\n",
       "LSTAT         50.994760\n",
       "MEDV          84.586724\n",
       "dtype: float64"
      ]
     },
     "execution_count": 3,
     "metadata": {},
     "output_type": "execute_result"
    }
   ],
   "source": [
    "from sklearn.datasets import load_boston\n",
    "\n",
    "boston_dataset = load_boston()\n",
    "\n",
    "# Checking the containing elements\n",
    "boston_dataset.keys()\n",
    "\n",
    "boston = pd.DataFrame(boston_dataset.data, columns=boston_dataset.feature_names)\n",
    "print(boston)\n",
    "boston['MEDV'] = boston_dataset.target\n",
    "# display(boston)\n",
    "# Check for the number of missing artibutes for each feature\n",
    "boston.info()\n",
    "boston.isnull().sum()\n",
    "# Check for features with low variance \n",
    "boston.var()"
   ]
  },
  {
   "cell_type": "code",
   "execution_count": 4,
   "metadata": {},
   "outputs": [
    {
     "data": {
      "text/plain": [
       "<matplotlib.axes._subplots.AxesSubplot at 0x7f7b94b66490>"
      ]
     },
     "execution_count": 4,
     "metadata": {},
     "output_type": "execute_result"
    },
    {
     "data": {
      "image/png": "[encoded data removed]",
      "text/plain": [
       "<Figure size 720x360 with 2 Axes>"
      ]
     },
     "metadata": {
      "needs_background": "light"
     },
     "output_type": "display_data"
    }
   ],
   "source": [
    "# compute the pair wise correlation for all columns  \n",
    "correlation_matrix = boston.corr().round(3)\n",
    "# use the heatmap function from seaborn to plot the correlation matrix\n",
    "sns.heatmap(data=correlation_matrix, annot=True)"
   ]
  },
  {
   "cell_type": "code",
   "execution_count": 5,
   "metadata": {},
   "outputs": [
    {
     "data": {
      "text/html": [
       "<div>\n",
       "<style scoped>\n",
       "    .dataframe tbody tr th:only-of-type {\n",
       "        vertical-align: middle;\n",
       "    }\n",
       "\n",
       "    .dataframe tbody tr th {\n",
       "        vertical-align: top;\n",
       "    }\n",
       "\n",
       "    .dataframe thead th {\n",
       "        text-align: right;\n",
       "    }\n",
       "</style>\n",
       "<table border=\"1\" class=\"dataframe\">\n",
       "  <thead>\n",
       "    <tr style=\"text-align: right;\">\n",
       "      <th></th>\n",
       "      <th>CRIM</th>\n",
       "      <th>ZN</th>\n",
       "      <th>INDUS</th>\n",
       "      <th>CHAS</th>\n",
       "      <th>NOX</th>\n",
       "      <th>RM</th>\n",
       "      <th>AGE</th>\n",
       "      <th>DIS</th>\n",
       "      <th>RAD</th>\n",
       "      <th>TAX</th>\n",
       "      <th>PTRATIO</th>\n",
       "      <th>B</th>\n",
       "      <th>LSTAT</th>\n",
       "      <th>MEDV</th>\n",
       "    </tr>\n",
       "  </thead>\n",
       "  <tbody>\n",
       "    <tr>\n",
       "      <th>CRIM</th>\n",
       "      <td>1.000</td>\n",
       "      <td>-0.200</td>\n",
       "      <td>0.407</td>\n",
       "      <td>-0.056</td>\n",
       "      <td>0.421</td>\n",
       "      <td>-0.219</td>\n",
       "      <td>0.353</td>\n",
       "      <td>-0.380</td>\n",
       "      <td>0.626</td>\n",
       "      <td>0.583</td>\n",
       "      <td>0.290</td>\n",
       "      <td>-0.385</td>\n",
       "      <td>0.456</td>\n",
       "      <td>-0.388</td>\n",
       "    </tr>\n",
       "    <tr>\n",
       "      <th>ZN</th>\n",
       "      <td>-0.200</td>\n",
       "      <td>1.000</td>\n",
       "      <td>-0.534</td>\n",
       "      <td>-0.043</td>\n",
       "      <td>-0.517</td>\n",
       "      <td>0.312</td>\n",
       "      <td>-0.570</td>\n",
       "      <td>0.664</td>\n",
       "      <td>-0.312</td>\n",
       "      <td>-0.315</td>\n",
       "      <td>-0.392</td>\n",
       "      <td>0.176</td>\n",
       "      <td>-0.413</td>\n",
       "      <td>0.360</td>\n",
       "    </tr>\n",
       "    <tr>\n",
       "      <th>INDUS</th>\n",
       "      <td>0.407</td>\n",
       "      <td>-0.534</td>\n",
       "      <td>1.000</td>\n",
       "      <td>0.063</td>\n",
       "      <td>0.764</td>\n",
       "      <td>-0.392</td>\n",
       "      <td>0.645</td>\n",
       "      <td>-0.708</td>\n",
       "      <td>0.595</td>\n",
       "      <td>0.721</td>\n",
       "      <td>0.383</td>\n",
       "      <td>-0.357</td>\n",
       "      <td>0.604</td>\n",
       "      <td>-0.484</td>\n",
       "    </tr>\n",
       "    <tr>\n",
       "      <th>CHAS</th>\n",
       "      <td>-0.056</td>\n",
       "      <td>-0.043</td>\n",
       "      <td>0.063</td>\n",
       "      <td>1.000</td>\n",
       "      <td>0.091</td>\n",
       "      <td>0.091</td>\n",
       "      <td>0.087</td>\n",
       "      <td>-0.099</td>\n",
       "      <td>-0.007</td>\n",
       "      <td>-0.036</td>\n",
       "      <td>-0.122</td>\n",
       "      <td>0.049</td>\n",
       "      <td>-0.054</td>\n",
       "      <td>0.175</td>\n",
       "    </tr>\n",
       "    <tr>\n",
       "      <th>NOX</th>\n",
       "      <td>0.421</td>\n",
       "      <td>-0.517</td>\n",
       "      <td>0.764</td>\n",
       "      <td>0.091</td>\n",
       "      <td>1.000</td>\n",
       "      <td>-0.302</td>\n",
       "      <td>0.731</td>\n",
       "      <td>-0.769</td>\n",
       "      <td>0.611</td>\n",
       "      <td>0.668</td>\n",
       "      <td>0.189</td>\n",
       "      <td>-0.380</td>\n",
       "      <td>0.591</td>\n",
       "      <td>-0.427</td>\n",
       "    </tr>\n",
       "    <tr>\n",
       "      <th>RM</th>\n",
       "      <td>-0.219</td>\n",
       "      <td>0.312</td>\n",
       "      <td>-0.392</td>\n",
       "      <td>0.091</td>\n",
       "      <td>-0.302</td>\n",
       "      <td>1.000</td>\n",
       "      <td>-0.240</td>\n",
       "      <td>0.205</td>\n",
       "      <td>-0.210</td>\n",
       "      <td>-0.292</td>\n",
       "      <td>-0.356</td>\n",
       "      <td>0.128</td>\n",
       "      <td>-0.614</td>\n",
       "      <td>0.695</td>\n",
       "    </tr>\n",
       "    <tr>\n",
       "      <th>AGE</th>\n",
       "      <td>0.353</td>\n",
       "      <td>-0.570</td>\n",
       "      <td>0.645</td>\n",
       "      <td>0.087</td>\n",
       "      <td>0.731</td>\n",
       "      <td>-0.240</td>\n",
       "      <td>1.000</td>\n",
       "      <td>-0.748</td>\n",
       "      <td>0.456</td>\n",
       "      <td>0.506</td>\n",
       "      <td>0.262</td>\n",
       "      <td>-0.274</td>\n",
       "      <td>0.602</td>\n",
       "      <td>-0.377</td>\n",
       "    </tr>\n",
       "    <tr>\n",
       "      <th>DIS</th>\n",
       "      <td>-0.380</td>\n",
       "      <td>0.664</td>\n",
       "      <td>-0.708</td>\n",
       "      <td>-0.099</td>\n",
       "      <td>-0.769</td>\n",
       "      <td>0.205</td>\n",
       "      <td>-0.748</td>\n",
       "      <td>1.000</td>\n",
       "      <td>-0.495</td>\n",
       "      <td>-0.534</td>\n",
       "      <td>-0.232</td>\n",
       "      <td>0.292</td>\n",
       "      <td>-0.497</td>\n",
       "      <td>0.250</td>\n",
       "    </tr>\n",
       "    <tr>\n",
       "      <th>RAD</th>\n",
       "      <td>0.626</td>\n",
       "      <td>-0.312</td>\n",
       "      <td>0.595</td>\n",
       "      <td>-0.007</td>\n",
       "      <td>0.611</td>\n",
       "      <td>-0.210</td>\n",
       "      <td>0.456</td>\n",
       "      <td>-0.495</td>\n",
       "      <td>1.000</td>\n",
       "      <td>0.910</td>\n",
       "      <td>0.465</td>\n",
       "      <td>-0.444</td>\n",
       "      <td>0.489</td>\n",
       "      <td>-0.382</td>\n",
       "    </tr>\n",
       "    <tr>\n",
       "      <th>TAX</th>\n",
       "      <td>0.583</td>\n",
       "      <td>-0.315</td>\n",
       "      <td>0.721</td>\n",
       "      <td>-0.036</td>\n",
       "      <td>0.668</td>\n",
       "      <td>-0.292</td>\n",
       "      <td>0.506</td>\n",
       "      <td>-0.534</td>\n",
       "      <td>0.910</td>\n",
       "      <td>1.000</td>\n",
       "      <td>0.461</td>\n",
       "      <td>-0.442</td>\n",
       "      <td>0.544</td>\n",
       "      <td>-0.469</td>\n",
       "    </tr>\n",
       "    <tr>\n",
       "      <th>PTRATIO</th>\n",
       "      <td>0.290</td>\n",
       "      <td>-0.392</td>\n",
       "      <td>0.383</td>\n",
       "      <td>-0.122</td>\n",
       "      <td>0.189</td>\n",
       "      <td>-0.356</td>\n",
       "      <td>0.262</td>\n",
       "      <td>-0.232</td>\n",
       "      <td>0.465</td>\n",
       "      <td>0.461</td>\n",
       "      <td>1.000</td>\n",
       "      <td>-0.177</td>\n",
       "      <td>0.374</td>\n",
       "      <td>-0.508</td>\n",
       "    </tr>\n",
       "    <tr>\n",
       "      <th>B</th>\n",
       "      <td>-0.385</td>\n",
       "      <td>0.176</td>\n",
       "      <td>-0.357</td>\n",
       "      <td>0.049</td>\n",
       "      <td>-0.380</td>\n",
       "      <td>0.128</td>\n",
       "      <td>-0.274</td>\n",
       "      <td>0.292</td>\n",
       "      <td>-0.444</td>\n",
       "      <td>-0.442</td>\n",
       "      <td>-0.177</td>\n",
       "      <td>1.000</td>\n",
       "      <td>-0.366</td>\n",
       "      <td>0.333</td>\n",
       "    </tr>\n",
       "    <tr>\n",
       "      <th>LSTAT</th>\n",
       "      <td>0.456</td>\n",
       "      <td>-0.413</td>\n",
       "      <td>0.604</td>\n",
       "      <td>-0.054</td>\n",
       "      <td>0.591</td>\n",
       "      <td>-0.614</td>\n",
       "      <td>0.602</td>\n",
       "      <td>-0.497</td>\n",
       "      <td>0.489</td>\n",
       "      <td>0.544</td>\n",
       "      <td>0.374</td>\n",
       "      <td>-0.366</td>\n",
       "      <td>1.000</td>\n",
       "      <td>-0.738</td>\n",
       "    </tr>\n",
       "    <tr>\n",
       "      <th>MEDV</th>\n",
       "      <td>-0.388</td>\n",
       "      <td>0.360</td>\n",
       "      <td>-0.484</td>\n",
       "      <td>0.175</td>\n",
       "      <td>-0.427</td>\n",
       "      <td>0.695</td>\n",
       "      <td>-0.377</td>\n",
       "      <td>0.250</td>\n",
       "      <td>-0.382</td>\n",
       "      <td>-0.469</td>\n",
       "      <td>-0.508</td>\n",
       "      <td>0.333</td>\n",
       "      <td>-0.738</td>\n",
       "      <td>1.000</td>\n",
       "    </tr>\n",
       "  </tbody>\n",
       "</table>\n",
       "</div>"
      ],
      "text/plain": [
       "          CRIM     ZN  INDUS   CHAS    NOX     RM    AGE    DIS    RAD    TAX  \\\n",
       "CRIM     1.000 -0.200  0.407 -0.056  0.421 -0.219  0.353 -0.380  0.626  0.583   \n",
       "ZN      -0.200  1.000 -0.534 -0.043 -0.517  0.312 -0.570  0.664 -0.312 -0.315   \n",
       "INDUS    0.407 -0.534  1.000  0.063  0.764 -0.392  0.645 -0.708  0.595  0.721   \n",
       "CHAS    -0.056 -0.043  0.063  1.000  0.091  0.091  0.087 -0.099 -0.007 -0.036   \n",
       "NOX      0.421 -0.517  0.764  0.091  1.000 -0.302  0.731 -0.769  0.611  0.668   \n",
       "RM      -0.219  0.312 -0.392  0.091 -0.302  1.000 -0.240  0.205 -0.210 -0.292   \n",
       "AGE      0.353 -0.570  0.645  0.087  0.731 -0.240  1.000 -0.748  0.456  0.506   \n",
       "DIS     -0.380  0.664 -0.708 -0.099 -0.769  0.205 -0.748  1.000 -0.495 -0.534   \n",
       "RAD      0.626 -0.312  0.595 -0.007  0.611 -0.210  0.456 -0.495  1.000  0.910   \n",
       "TAX      0.583 -0.315  0.721 -0.036  0.668 -0.292  0.506 -0.534  0.910  1.000   \n",
       "PTRATIO  0.290 -0.392  0.383 -0.122  0.189 -0.356  0.262 -0.232  0.465  0.461   \n",
       "B       -0.385  0.176 -0.357  0.049 -0.380  0.128 -0.274  0.292 -0.444 -0.442   \n",
       "LSTAT    0.456 -0.413  0.604 -0.054  0.591 -0.614  0.602 -0.497  0.489  0.544   \n",
       "MEDV    -0.388  0.360 -0.484  0.175 -0.427  0.695 -0.377  0.250 -0.382 -0.469   \n",
       "\n",
       "         PTRATIO      B  LSTAT   MEDV  \n",
       "CRIM       0.290 -0.385  0.456 -0.388  \n",
       "ZN        -0.392  0.176 -0.413  0.360  \n",
       "INDUS      0.383 -0.357  0.604 -0.484  \n",
       "CHAS      -0.122  0.049 -0.054  0.175  \n",
       "NOX        0.189 -0.380  0.591 -0.427  \n",
       "RM        -0.356  0.128 -0.614  0.695  \n",
       "AGE        0.262 -0.274  0.602 -0.377  \n",
       "DIS       -0.232  0.292 -0.497  0.250  \n",
       "RAD        0.465 -0.444  0.489 -0.382  \n",
       "TAX        0.461 -0.442  0.544 -0.469  \n",
       "PTRATIO    1.000 -0.177  0.374 -0.508  \n",
       "B         -0.177  1.000 -0.366  0.333  \n",
       "LSTAT      0.374 -0.366  1.000 -0.738  \n",
       "MEDV      -0.508  0.333 -0.738  1.000  "
      ]
     },
     "execution_count": 5,
     "metadata": {},
     "output_type": "execute_result"
    }
   ],
   "source": [
    "# correlation_matrix.index.values\n",
    "correlation_matrix"
   ]
  },
  {
   "cell_type": "code",
   "execution_count": 11,
   "metadata": {},
   "outputs": [
    {
     "name": "stdout",
     "output_type": "stream",
     "text": [
      "(506, 13) (506,)\n",
      "(506, 13) (506,)\n",
      "(506, 12) (506,)\n",
      "(506, 11) (506,)\n",
      "(506, 6) (506,)\n",
      "(506, 3) (506,)\n",
      "(506, 2) (506,)\n",
      "(506, 1) (506,)\n"
     ]
    },
    {
     "data": {
      "text/html": [
       "<div>\n",
       "<style scoped>\n",
       "    .dataframe tbody tr th:only-of-type {\n",
       "        vertical-align: middle;\n",
       "    }\n",
       "\n",
       "    .dataframe tbody tr th {\n",
       "        vertical-align: top;\n",
       "    }\n",
       "\n",
       "    .dataframe thead th {\n",
       "        text-align: right;\n",
       "    }\n",
       "</style>\n",
       "<table border=\"1\" class=\"dataframe\">\n",
       "  <thead>\n",
       "    <tr style=\"text-align: right;\">\n",
       "      <th></th>\n",
       "      <th>features name</th>\n",
       "      <th>#features</th>\n",
       "      <th>Threshold</th>\n",
       "      <th>R2_score</th>\n",
       "      <th>MSE</th>\n",
       "    </tr>\n",
       "  </thead>\n",
       "  <tbody>\n",
       "    <tr>\n",
       "      <th>0</th>\n",
       "      <td>['LSTAT' 'MEDV']</td>\n",
       "      <td>1</td>\n",
       "      <td>0.7</td>\n",
       "      <td>0.626873</td>\n",
       "      <td>27.3628</td>\n",
       "    </tr>\n",
       "    <tr>\n",
       "      <th>1</th>\n",
       "      <td>['LSTAT' 'MEDV']</td>\n",
       "      <td>1</td>\n",
       "      <td>0.7</td>\n",
       "      <td>0.626873</td>\n",
       "      <td>27.3628</td>\n",
       "    </tr>\n",
       "  </tbody>\n",
       "</table>\n",
       "</div>"
      ],
      "text/plain": [
       "      features name #features Threshold  R2_score      MSE\n",
       "0  ['LSTAT' 'MEDV']         1       0.7  0.626873  27.3628\n",
       "1  ['LSTAT' 'MEDV']         1       0.7  0.626873  27.3628"
      ]
     },
     "execution_count": 11,
     "metadata": {},
     "output_type": "execute_result"
    }
   ],
   "source": [
    "# the threshold value corresponds to the correlation value\n",
    "threshold = 0\n",
    "# Obtain predictions for different threshold\n",
    "for i in range(8):\n",
    "    k = i\n",
    "    threshold = k/10\n",
    "    \n",
    "#   calls the getCorrelatedFeatures function to select the features with coreelation values above the threshold\n",
    "    correlation_value, feature = getCorrelatedFeature(correlation_matrix['MEDV'], threshold)\n",
    "    correlated_data = boston[correlation_value.index]\n",
    "    # high correlation among 'RAD' and 'TAX' check effect of removing\n",
    "    # if 'RAD' in correlated_data.columns:\n",
    "    #    correlated_data = correlated_data.drop(labels = ['RAD'], axis = 1)\n",
    "    #if 'TAX' in correlated_data.columns:\n",
    "    #    correlated_data = correlated_data.drop(labels = ['TAX'], axis = 1)\n",
    "    degree = 2                                            #check for polynomial order 2\n",
    "    y_test, y_predict = get_y_predict(correlated_data,degree)\n",
    "    \n",
    "#   calls the performance_metrics function to display the accuracy of the model    \n",
    "\n",
    "performance_metrics(correlated_data.columns.values, threshold, y_test, y_predict)    "
   ]
  },
  {
   "cell_type": "code",
   "execution_count": 12,
   "metadata": {},
   "outputs": [
    {
     "name": "stdout",
     "output_type": "stream",
     "text": [
      "(506, 13) (506,)\n",
      "(506, 13) (506,)\n",
      "(506, 13) (506,)\n",
      "(506, 13) (506,)\n",
      "(506, 13) (506,)\n",
      "(506, 13) (506,)\n",
      "(506, 13) (506,)\n"
     ]
    }
   ],
   "source": [
    "maxdegree = 7\n",
    "mse_arr=np.zeros(maxdegree)\n",
    "index=np.zeros(maxdegree)\n",
    "r2sc=np.zeros(maxdegree)\n",
    "threshold = 0.0                  #selected all parameters\n",
    "# loop over different order polynomials\n",
    "for i in range(maxdegree):\n",
    "    \n",
    "   #Call the getCorrelatedFeatures function to display the filtered features\n",
    "    correlation_value, feature = getCorrelatedFeature(correlation_matrix['MEDV'], threshold)\n",
    "    correlated_data = boston[correlation_value.index]\n",
    "    #correlated_data = correlated_data.drop(labels = ['RAD'], axis = 1)\n",
    "    #correlated_data = correlated_data.drop(labels = ['TAX'], axis = 1)\n",
    "    degree = i+1\n",
    "    index[i]=i+1\n",
    "   #Call fit function again\n",
    "    y_test, y_predict = get_y_predict(correlated_data,degree)\n",
    "   #Calculate the cost function\n",
    "    mse_arr[i]= mean_squared_error(y_test, y_predict)\n",
    "    r2s=r2_score(y_test, y_predict)\n",
    "    r2sc[i]=r2s"
   ]
  },
  {
   "cell_type": "code",
   "execution_count": 13,
   "metadata": {},
   "outputs": [
    {
     "data": {
      "text/plain": [
       "Text(0.5, 1.0, 'Linear Regression fit')"
      ]
     },
     "execution_count": 13,
     "metadata": {},
     "output_type": "execute_result"
    },
    {
     "data": {
      "image/png": "[encoded data removed]",
      "text/plain": [
       "<Figure size 720x360 with 1 Axes>"
      ]
     },
     "metadata": {
      "needs_background": "light"
     },
     "output_type": "display_data"
    }
   ],
   "source": [
    "#plot MSE as a function of the complexity\n",
    "plt.plot(index,mse_arr,'g-')\n",
    "plt.yscale('log')\n",
    "plt.xlabel('Complexity')\n",
    "plt.ylabel('MSE')\n",
    "plt.title('Linear Regression fit')"
   ]
  },
  {
   "cell_type": "code",
   "execution_count": 10,
   "metadata": {},
   "outputs": [
    {
     "data": {
      "image/png": "[encoded data removed]",
      "text/plain": [
       "<Figure size 720x360 with 1 Axes>"
      ]
     },
     "metadata": {
      "needs_background": "light"
     },
     "output_type": "display_data"
    }
   ],
   "source": [
    "#plot R2Score as a function of the complexity\n",
    "plt.plot(index,r2sc,'b-')\n",
    "plt.yscale('log')"
   ]
  },
  {
   "cell_type": "code",
   "execution_count": 16,
   "metadata": {},
   "outputs": [
    {
     "name": "stdout",
     "output_type": "stream",
     "text": [
      "(506, 13) (506,)\n",
      "(404, 13)\n",
      "(506, 13) (506,)\n",
      "(404, 104)\n",
      "(506, 13) (506,)\n",
      "(404, 559)\n",
      "(506, 13) (506,)\n",
      "(404, 2379)\n"
     ]
    }
   ],
   "source": [
    "#aplication of Cross Validation\n",
    "maxdegree = 4\n",
    "folds=5\n",
    "mse_arr=np.zeros(maxdegree)\n",
    "index=np.zeros(maxdegree)\n",
    "threshold = 0.0\n",
    "# Obtain models for different threshold\n",
    "for i in range(maxdegree):\n",
    "    #k = i + 3\n",
    "    #threshold = k/10\n",
    "#     Call the getCorrelatedFeatures function to display the filtered features\n",
    "    correlation_value, feature = getCorrelatedFeature(correlation_matrix['MEDV'], threshold)\n",
    "    correlated_data = boston[correlation_value.index]\n",
    "   # print(correlated_data)\n",
    "    degree = i+1\n",
    "    index[i]=i+1\n",
    "    y_test, y_predict,mse_kf = get_y_predictkf(correlated_data,degree,folds)\n",
    "    mse_arr[i]=mse_kf"
   ]
  },
  {
   "cell_type": "code",
   "execution_count": 17,
   "metadata": {},
   "outputs": [
    {
     "data": {
      "text/plain": [
       "[<matplotlib.lines.Line2D at 0x7fc0cd8fcd90>]"
      ]
     },
     "execution_count": 17,
     "metadata": {},
     "output_type": "execute_result"
    },
    {
     "data": {
      "image/png": "[encoded data removed]",
      "text/plain": [
       "<Figure size 720x360 with 1 Axes>"
      ]
     },
     "metadata": {
      "needs_background": "light"
     },
     "output_type": "display_data"
    }
   ],
   "source": [
    "plt.plot(index,mse_arr,'b-')\n"
   ]
  },
  {
   "cell_type": "code",
   "execution_count": 19,
   "metadata": {},
   "outputs": [
    {
     "name": "stdout",
     "output_type": "stream",
     "text": [
      "(506, 13) (506,)\n",
      "(102, 104)\n",
      "(104,)\n",
      "(506, 13) (506,)\n",
      "(102, 104)\n",
      "(104,)\n",
      "(506, 13) (506,)\n",
      "(102, 104)\n",
      "(104,)\n",
      "(506, 13) (506,)\n",
      "(102, 104)\n",
      "(104,)\n"
     ]
    },
    {
     "name": "stderr",
     "output_type": "stream",
     "text": [
      "/home/snehankit/anaconda3/lib/python3.8/site-packages/sklearn/linear_model/_ridge.py:147: LinAlgWarning: Ill-conditioned matrix (rcond=5.22107e-17): result may not be accurate.\n",
      "  return linalg.solve(A, Xy, sym_pos=True,\n",
      "/home/snehankit/anaconda3/lib/python3.8/site-packages/sklearn/linear_model/_ridge.py:147: LinAlgWarning: Ill-conditioned matrix (rcond=4.45858e-17): result may not be accurate.\n",
      "  return linalg.solve(A, Xy, sym_pos=True,\n",
      "/home/snehankit/anaconda3/lib/python3.8/site-packages/sklearn/linear_model/_ridge.py:147: LinAlgWarning: Ill-conditioned matrix (rcond=4.52921e-17): result may not be accurate.\n",
      "  return linalg.solve(A, Xy, sym_pos=True,\n",
      "/home/snehankit/anaconda3/lib/python3.8/site-packages/sklearn/linear_model/_ridge.py:147: LinAlgWarning: Ill-conditioned matrix (rcond=6.28017e-17): result may not be accurate.\n",
      "  return linalg.solve(A, Xy, sym_pos=True,\n",
      "/home/snehankit/anaconda3/lib/python3.8/site-packages/sklearn/linear_model/_ridge.py:147: LinAlgWarning: Ill-conditioned matrix (rcond=8.76151e-17): result may not be accurate.\n",
      "  return linalg.solve(A, Xy, sym_pos=True,\n"
     ]
    },
    {
     "name": "stdout",
     "output_type": "stream",
     "text": [
      "(506, 13) (506,)\n",
      "(102, 104)\n",
      "(104,)\n",
      "(506, 13) (506,)\n",
      "(102, 104)\n",
      "(104,)\n",
      "(506, 13) (506,)\n",
      "(102, 104)\n",
      "(104,)\n",
      "(506, 13) (506,)\n",
      "(102, 104)\n",
      "(104,)\n",
      "(506, 13) (506,)\n",
      "(102, 104)\n",
      "(104,)\n",
      "(506, 13) (506,)\n",
      "(102, 104)\n",
      "(104,)\n",
      "(506, 13) (506,)\n",
      "(102, 104)\n",
      "(104,)\n",
      "(506, 13) (506,)\n",
      "(102, 104)\n",
      "(104,)\n",
      "(506, 13) (506,)\n",
      "(102, 104)\n",
      "(104,)\n",
      "(506, 13) (506,)\n",
      "(102, 104)\n",
      "(104,)\n",
      "(506, 13) (506,)\n",
      "(102, 104)\n",
      "(104,)\n"
     ]
    }
   ],
   "source": [
    "#Ridge regression study over different hyper parameter values\n",
    "stop = 11\n",
    "folds=5\n",
    "start=3\n",
    "tot=start+stop+1        \n",
    "val=np.logspace(-start,stop,num=tot)            #define range of hyper-parameter values\n",
    "mse_arr=np.zeros(tot)\n",
    "kf_arr=np.zeros(tot)\n",
    "index=np.zeros(tot)\n",
    "r2sc=np.zeros(tot)\n",
    "threshold = 0.0        #All features taken\n",
    "# loop over different hyperparameter values\n",
    "for i in range(tot):\n",
    "#     Call the getCorrelatedFeatures function to display the filtered features\n",
    "    correlation_value, feature = getCorrelatedFeature(correlation_matrix['MEDV'], threshold)\n",
    "    correlated_data = boston[correlation_value.index]\n",
    "    #correlated_data = correlated_data.drop(labels = ['RAD'], axis = 1)\n",
    "    #correlated_data = correlated_data.drop(labels = ['TAX'], axis = 1)\n",
    "    degree = 2       #Done for Second order Polynomial      \n",
    "    index[i]=val[i]\n",
    "   #Call ridge regresion function\n",
    "    y_test, y_predict,mse_kf = get_y_predictkf_ridge_d(correlated_data,degree,folds,val[i])\n",
    "   #Calculate cost function\n",
    "    mse_arr[i]=mean_squared_error(y_test, y_predict)\n",
    "    kf_arr[i]=mse_kf\n",
    "    r2s=r2_score(y_test, y_predict)\n",
    "    r2sc[i]=r2s"
   ]
  },
  {
   "cell_type": "code",
   "execution_count": 22,
   "metadata": {},
   "outputs": [
    {
     "data": {
      "text/plain": [
       "Text(0.5, 1.0, 'Ridge Regression fit')"
      ]
     },
     "execution_count": 22,
     "metadata": {},
     "output_type": "execute_result"
    },
    {
     "data": {
      "image/png": "[encoded data removed]",
      "text/plain": [
       "<Figure size 720x360 with 1 Axes>"
      ]
     },
     "metadata": {
      "needs_background": "light"
     },
     "output_type": "display_data"
    }
   ],
   "source": [
    "#plot MSE as a function of the complexity\n",
    "plt.plot(index,mse_arr,'r-')\n",
    "plt.xscale('log')\n",
    "plt.yscale('log')\n",
    "plt.xlabel('Hyper-Parameter')\n",
    "plt.ylabel('MSE')\n",
    "plt.title('Ridge Regression fit')"
   ]
  },
  {
   "cell_type": "code",
   "execution_count": 24,
   "metadata": {},
   "outputs": [
    {
     "data": {
      "image/png": "[encoded data removed]",
      "text/plain": [
       "<Figure size 720x360 with 1 Axes>"
      ]
     },
     "metadata": {
      "needs_background": "light"
     },
     "output_type": "display_data"
    }
   ],
   "source": [
    "#plot R2 Score as a function of the complexity\n",
    "plt.plot(index,r2sc,'b-')\n",
    "plt.xscale('log')\n",
    "plt.yscale('log')"
   ]
  },
  {
   "cell_type": "code",
   "execution_count": 27,
   "metadata": {},
   "outputs": [
    {
     "name": "stdout",
     "output_type": "stream",
     "text": [
      "(506, 13) (506,)\n",
      "(404, 13)\n",
      "(506, 13) (506,)\n",
      "(404, 104)\n",
      "(506, 13) (506,)\n",
      "(404, 559)\n",
      "(506, 13)"
     ]
    },
    {
     "name": "stderr",
     "output_type": "stream",
     "text": [
      "/home/snehankit/anaconda3/lib/python3.8/site-packages/sklearn/linear_model/_ridge.py:187: LinAlgWarning: Ill-conditioned matrix (rcond=7.8791e-18): result may not be accurate.\n",
      "  dual_coef = linalg.solve(K, y, sym_pos=True,\n",
      "/home/snehankit/anaconda3/lib/python3.8/site-packages/sklearn/linear_model/_ridge.py:187: LinAlgWarning: Ill-conditioned matrix (rcond=5.63186e-18): result may not be accurate.\n",
      "  dual_coef = linalg.solve(K, y, sym_pos=True,\n",
      "/home/snehankit/anaconda3/lib/python3.8/site-packages/sklearn/linear_model/_ridge.py:187: LinAlgWarning: Ill-conditioned matrix (rcond=5.69784e-18): result may not be accurate.\n",
      "  dual_coef = linalg.solve(K, y, sym_pos=True,\n",
      "/home/snehankit/anaconda3/lib/python3.8/site-packages/sklearn/linear_model/_ridge.py:187: LinAlgWarning: Ill-conditioned matrix (rcond=5.93419e-18): result may not be accurate.\n",
      "  dual_coef = linalg.solve(K, y, sym_pos=True,\n",
      "/home/snehankit/anaconda3/lib/python3.8/site-packages/sklearn/linear_model/_ridge.py:187: LinAlgWarning: Ill-conditioned matrix (rcond=8.48748e-18): result may not be accurate.\n",
      "  dual_coef = linalg.solve(K, y, sym_pos=True,\n",
      "/home/snehankit/anaconda3/lib/python3.8/site-packages/sklearn/linear_model/_ridge.py:187: LinAlgWarning: Ill-conditioned matrix (rcond=1.50923e-17): result may not be accurate.\n",
      "  dual_coef = linalg.solve(K, y, sym_pos=True,\n",
      "/home/snehankit/anaconda3/lib/python3.8/site-packages/sklearn/linear_model/_ridge.py:190: UserWarning: Singular matrix in solving dual problem. Using least-squares solution instead.\n",
      "  warnings.warn(\"Singular matrix in solving dual problem. Using \"\n"
     ]
    },
    {
     "name": "stdout",
     "output_type": "stream",
     "text": [
      " (506,)\n",
      "(404, 2379)\n"
     ]
    },
    {
     "name": "stderr",
     "output_type": "stream",
     "text": [
      "/home/snehankit/anaconda3/lib/python3.8/site-packages/sklearn/linear_model/_ridge.py:190: UserWarning: Singular matrix in solving dual problem. Using least-squares solution instead.\n",
      "  warnings.warn(\"Singular matrix in solving dual problem. Using \"\n",
      "/home/snehankit/anaconda3/lib/python3.8/site-packages/sklearn/linear_model/_ridge.py:190: UserWarning: Singular matrix in solving dual problem. Using least-squares solution instead.\n",
      "  warnings.warn(\"Singular matrix in solving dual problem. Using \"\n",
      "/home/snehankit/anaconda3/lib/python3.8/site-packages/sklearn/linear_model/_ridge.py:190: UserWarning: Singular matrix in solving dual problem. Using least-squares solution instead.\n",
      "  warnings.warn(\"Singular matrix in solving dual problem. Using \"\n",
      "/home/snehankit/anaconda3/lib/python3.8/site-packages/sklearn/linear_model/_ridge.py:190: UserWarning: Singular matrix in solving dual problem. Using least-squares solution instead.\n",
      "  warnings.warn(\"Singular matrix in solving dual problem. Using \"\n",
      "/home/snehankit/anaconda3/lib/python3.8/site-packages/sklearn/linear_model/_ridge.py:190: UserWarning: Singular matrix in solving dual problem. Using least-squares solution instead.\n",
      "  warnings.warn(\"Singular matrix in solving dual problem. Using \"\n"
     ]
    },
    {
     "name": "stdout",
     "output_type": "stream",
     "text": [
      "(506, 13) (506,)\n",
      "(404, 8567)\n"
     ]
    },
    {
     "name": "stderr",
     "output_type": "stream",
     "text": [
      "/home/snehankit/anaconda3/lib/python3.8/site-packages/sklearn/linear_model/_ridge.py:190: UserWarning: Singular matrix in solving dual problem. Using least-squares solution instead.\n",
      "  warnings.warn(\"Singular matrix in solving dual problem. Using \"\n",
      "/home/snehankit/anaconda3/lib/python3.8/site-packages/sklearn/linear_model/_ridge.py:190: UserWarning: Singular matrix in solving dual problem. Using least-squares solution instead.\n",
      "  warnings.warn(\"Singular matrix in solving dual problem. Using \"\n",
      "/home/snehankit/anaconda3/lib/python3.8/site-packages/sklearn/linear_model/_ridge.py:190: UserWarning: Singular matrix in solving dual problem. Using least-squares solution instead.\n",
      "  warnings.warn(\"Singular matrix in solving dual problem. Using \"\n",
      "/home/snehankit/anaconda3/lib/python3.8/site-packages/sklearn/linear_model/_ridge.py:190: UserWarning: Singular matrix in solving dual problem. Using least-squares solution instead.\n",
      "  warnings.warn(\"Singular matrix in solving dual problem. Using \"\n",
      "/home/snehankit/anaconda3/lib/python3.8/site-packages/sklearn/linear_model/_ridge.py:190: UserWarning: Singular matrix in solving dual problem. Using least-squares solution instead.\n",
      "  warnings.warn(\"Singular matrix in solving dual problem. Using \"\n",
      "/home/snehankit/anaconda3/lib/python3.8/site-packages/sklearn/linear_model/_ridge.py:190: UserWarning: Singular matrix in solving dual problem. Using least-squares solution instead.\n",
      "  warnings.warn(\"Singular matrix in solving dual problem. Using \"\n"
     ]
    }
   ],
   "source": [
    "# Study ridge Regression as a fucntion of the complexity\n",
    "maxdegree = 5\n",
    "mse_arr=np.zeros(maxdegree)\n",
    "index=np.zeros(maxdegree)\n",
    "r2sc=np.zeros(maxdegree)\n",
    "kf_arr=np.zeros(maxdegree)\n",
    "threshold = 0.0\n",
    "# Obtain models for different complexity\n",
    "for i in range(maxdegree):\n",
    "    #k = i + 3\n",
    "    #threshold = k/10\n",
    "#     Call the getCorrelatedFeatures function to display the filtered features\n",
    "    correlation_value, feature = getCorrelatedFeature(correlation_matrix['MEDV'], threshold)\n",
    "    correlated_data = boston[correlation_value.index]\n",
    "   # print(correlated_data)\n",
    "    degree = i+1\n",
    "    index[i]=i+1\n",
    "    y_test, y_predict,mse_kf = get_y_predictkf_ridge(correlated_data,degree,folds,600)\n",
    "    #calculate cost function\n",
    "    mse_arr[i]=mean_squared_error(y_test, y_predict)\n",
    "    kf_arr[i]=mse_kf\n",
    "    r2s=r2_score(y_test, y_predict)\n",
    "    r2sc[i]=r2s"
   ]
  },
  {
   "cell_type": "code",
   "execution_count": 30,
   "metadata": {},
   "outputs": [
    {
     "data": {
      "text/plain": [
       "[<matplotlib.lines.Line2D at 0x7fc0cd86c070>]"
      ]
     },
     "execution_count": 30,
     "metadata": {},
     "output_type": "execute_result"
    },
    {
     "data": {
      "image/png": "[encoded data removed]",
      "text/plain": [
       "<Figure size 720x360 with 1 Axes>"
      ]
     },
     "metadata": {
      "needs_background": "light"
     },
     "output_type": "display_data"
    }
   ],
   "source": [
    "#plot MSE as a function of the complexity\n",
    "plt.plot(index,mse_arr,'b-')"
   ]
  },
  {
   "cell_type": "code",
   "execution_count": 32,
   "metadata": {},
   "outputs": [
    {
     "data": {
      "text/plain": [
       "[<matplotlib.lines.Line2D at 0x7fc0cd9dd490>]"
      ]
     },
     "execution_count": 32,
     "metadata": {},
     "output_type": "execute_result"
    },
    {
     "data": {
      "image/png": "[encoded data removed]",
      "text/plain": [
       "<Figure size 720x360 with 1 Axes>"
      ]
     },
     "metadata": {
      "needs_background": "light"
     },
     "output_type": "display_data"
    }
   ],
   "source": [
    "#plot R2 Score as a function of the complexity\n",
    "plt.plot(index,r2sc,'b-')"
   ]
  },
  {
   "cell_type": "code",
   "execution_count": 37,
   "metadata": {},
   "outputs": [
    {
     "name": "stdout",
     "output_type": "stream",
     "text": [
      "(506, 13) (506,)\n",
      "(102, 13)\n",
      "(13,)\n",
      "(506, 13) (506,)\n",
      "(102, 104)\n",
      "(104,)\n",
      "(506, 13) (506,)\n",
      "(102, 559)\n",
      "(559,)\n"
     ]
    },
    {
     "name": "stderr",
     "output_type": "stream",
     "text": [
      "/home/snehankit/anaconda3/lib/python3.8/site-packages/sklearn/linear_model/_ridge.py:190: UserWarning: Singular matrix in solving dual problem. Using least-squares solution instead.\n",
      "  warnings.warn(\"Singular matrix in solving dual problem. Using \"\n",
      "/home/snehankit/anaconda3/lib/python3.8/site-packages/sklearn/linear_model/_ridge.py:190: UserWarning: Singular matrix in solving dual problem. Using least-squares solution instead.\n",
      "  warnings.warn(\"Singular matrix in solving dual problem. Using \"\n",
      "/home/snehankit/anaconda3/lib/python3.8/site-packages/sklearn/linear_model/_ridge.py:190: UserWarning: Singular matrix in solving dual problem. Using least-squares solution instead.\n",
      "  warnings.warn(\"Singular matrix in solving dual problem. Using \"\n",
      "/home/snehankit/anaconda3/lib/python3.8/site-packages/sklearn/linear_model/_ridge.py:190: UserWarning: Singular matrix in solving dual problem. Using least-squares solution instead.\n",
      "  warnings.warn(\"Singular matrix in solving dual problem. Using \"\n",
      "/home/snehankit/anaconda3/lib/python3.8/site-packages/sklearn/linear_model/_ridge.py:190: UserWarning: Singular matrix in solving dual problem. Using least-squares solution instead.\n",
      "  warnings.warn(\"Singular matrix in solving dual problem. Using \"\n"
     ]
    },
    {
     "name": "stdout",
     "output_type": "stream",
     "text": [
      "(506, 13) (506,)\n",
      "(102, 2379)\n",
      "(2379,)\n"
     ]
    },
    {
     "name": "stderr",
     "output_type": "stream",
     "text": [
      "/home/snehankit/anaconda3/lib/python3.8/site-packages/sklearn/linear_model/_ridge.py:190: UserWarning: Singular matrix in solving dual problem. Using least-squares solution instead.\n",
      "  warnings.warn(\"Singular matrix in solving dual problem. Using \"\n",
      "/home/snehankit/anaconda3/lib/python3.8/site-packages/sklearn/linear_model/_ridge.py:190: UserWarning: Singular matrix in solving dual problem. Using least-squares solution instead.\n",
      "  warnings.warn(\"Singular matrix in solving dual problem. Using \"\n",
      "/home/snehankit/anaconda3/lib/python3.8/site-packages/sklearn/linear_model/_ridge.py:190: UserWarning: Singular matrix in solving dual problem. Using least-squares solution instead.\n",
      "  warnings.warn(\"Singular matrix in solving dual problem. Using \"\n",
      "/home/snehankit/anaconda3/lib/python3.8/site-packages/sklearn/linear_model/_ridge.py:190: UserWarning: Singular matrix in solving dual problem. Using least-squares solution instead.\n",
      "  warnings.warn(\"Singular matrix in solving dual problem. Using \"\n",
      "/home/snehankit/anaconda3/lib/python3.8/site-packages/sklearn/linear_model/_ridge.py:190: UserWarning: Singular matrix in solving dual problem. Using least-squares solution instead.\n",
      "  warnings.warn(\"Singular matrix in solving dual problem. Using \"\n"
     ]
    }
   ],
   "source": [
    "#trying out Pseudoinverse for underdetermined case\n",
    "maxdegree = 4\n",
    "mse_arr=np.zeros(maxdegree)\n",
    "index=np.zeros(maxdegree)\n",
    "r2sc=np.zeros(maxdegree)\n",
    "kf_arr=np.zeros(maxdegree)\n",
    "threshold = 0.0\n",
    "# Obtain models for different threshold\n",
    "for i in range(maxdegree):\n",
    "    #k = i + 3\n",
    "    #threshold = k/10\n",
    "#     Call the getCorrelatedFeatures function to display the filtered features\n",
    "    correlation_value, feature = getCorrelatedFeature(correlation_matrix['MEDV'], threshold)\n",
    "    correlated_data = boston[correlation_value.index]\n",
    "    #correlated_data = correlated_data.drop(labels = ['RAD'], axis = 1)\n",
    "    #correlated_data = correlated_data.drop(labels = ['TAX'], axis = 1)\n",
    "   # print(correlated_data)\n",
    "    degree = i+1\n",
    "    index[i]=i+1\n",
    "    y_test, y_predict,mse_kf = get_y_predictkf_psinv(correlated_data,degree,folds,0.1)\n",
    "    mse_arr[i]=mean_squared_error(y_test, y_predict)\n",
    "    kf_arr[i]=mse_kf\n",
    "    r2s=r2_score(y_test, y_predict)\n",
    "    r2sc[i]=r2s"
   ]
  },
  {
   "cell_type": "code",
   "execution_count": 38,
   "metadata": {},
   "outputs": [
    {
     "data": {
      "text/plain": [
       "[<matplotlib.lines.Line2D at 0x7fc0cd70b040>]"
      ]
     },
     "execution_count": 38,
     "metadata": {},
     "output_type": "execute_result"
    },
    {
     "data": {
      "image/png": "[encoded data removed]",
      "text/plain": [
       "<Figure size 720x360 with 1 Axes>"
      ]
     },
     "metadata": {
      "needs_background": "light"
     },
     "output_type": "display_data"
    }
   ],
   "source": [
    "plt.plot(index,r2sc,'b-')"
   ]
  },
  {
   "cell_type": "code",
   "execution_count": null,
   "metadata": {},
   "outputs": [],
   "source": [
    "#ridge regression with explicit definition of Derived parameters\n",
    "maxdegree = 5\n",
    "mse_arr=np.zeros(maxdegree)\n",
    "index=np.zeros(maxdegree)\n",
    "r2sc=np.zeros(maxdegree)\n",
    "kf_arr=np.zeros(maxdegree)\n",
    "threshold = 0.0\n",
    "# Obtain models for different compplexity\n",
    "for i in range(maxdegree):\n",
    "    #k = i + 3\n",
    "    #threshold = k/10\n",
    "#     Call the getCorrelatedFeatures function to display the filtered features\n",
    "    correlation_value, feature = getCorrelatedFeature(correlation_matrix['MEDV'], threshold)\n",
    "    correlated_data = boston[correlation_value.index]\n",
    "    #correlated_data = correlated_data.drop(labels = ['RAD'], axis = 1)\n",
    "    #correlated_data = correlated_data.drop(labels = ['TAX'], axis = 1)\n",
    "   # print(correlated_data)\n",
    "    degree = i+1\n",
    "    index[i]=i+1\n",
    "    y_test, y_predict,mse_kf = get_y_predictkf_ridge_d(correlated_data,degree,folds,600)\n",
    "    mse_arr[i]=mean_squared_error(y_test, y_predict)\n",
    "    kf_arr[i]=mse_kf\n",
    "    r2s=r2_score(y_test, y_predict)\n",
    "    r2sc[i]=r2s"
   ]
  },
  {
   "cell_type": "code",
   "execution_count": null,
   "metadata": {},
   "outputs": [],
   "source": [
    "plt.plot(index,r2sc,'b-')"
   ]
  },
  {
   "cell_type": "code",
   "execution_count": null,
   "metadata": {},
   "outputs": [],
   "source": [
    "threshold = 0\n",
    "# Obtain models for different threshold\n",
    "for i in range(8):\n",
    "    k = i\n",
    "    threshold = k/10\n",
    "#     Call the getCorrelatedFeatures function to display the filtered features\n",
    "    correlation_value, feature = getCorrelatedFeature(correlation_matrix['MEDV'], threshold)\n",
    "    correlated_data = boston[correlation_value.index]\n",
    "    #if 'RAD' in correlated_data.columns:\n",
    "    #    correlated_data = correlated_data.drop(labels = ['RAD'], axis = 1)\n",
    "    #if 'TAX' in correlated_data.columns:\n",
    "    #    correlated_data = correlated_data.drop(labels = ['TAX'], axis = 1)\n",
    "   # print(correlated_data)\n",
    "    degree = 3\n",
    "    y_test, y_predict,mse_kf = get_y_predictkf_ridge_d(correlated_data,degree,folds,1e8)\n",
    "    \n",
    "\n",
    "performance_metrics(correlated_data.columns.values, threshold, y_test, y_predict)    "
   ]
  },
  {
   "cell_type": "code",
   "execution_count": null,
   "metadata": {},
   "outputs": [],
   "source": []
  },
  {
   "cell_type": "code",
   "execution_count": null,
   "metadata": {},
   "outputs": [],
   "source": []
  },
  {
   "cell_type": "code",
   "execution_count": null,
   "metadata": {},
   "outputs": [],
   "source": []
  },
  {
   "cell_type": "code",
   "execution_count": null,
   "metadata": {},
   "outputs": [],
   "source": []
  },
  {
   "cell_type": "code",
   "execution_count": null,
   "metadata": {},
   "outputs": [],
   "source": []
  }
 ],
 "metadata": {
  "kernelspec": {
   "display_name": "Python 3",
   "language": "python",
   "name": "python3"
  },
  "language_info": {
   "codemirror_mode": {
    "name": "ipython",
    "version": 3
   },
   "file_extension": ".py",
   "mimetype": "text/x-python",
   "name": "python",
   "nbconvert_exporter": "python",
   "pygments_lexer": "ipython3",
   "version": "3.8.2"
  }
 },
 "nbformat": 4,
 "nbformat_minor": 4
}
